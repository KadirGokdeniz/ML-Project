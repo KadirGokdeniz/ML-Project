{
 "cells": [
  {
   "cell_type": "code",
   "execution_count": 1,
   "id": "c5abbf32",
   "metadata": {},
   "outputs": [],
   "source": [
    "import pandas as pd\n",
    "import numpy as np\n",
    "import seaborn as sns\n",
    "import matplotlib.pyplot as plt\n",
    "from sklearn.model_selection import train_test_split\n",
    "from sklearn.linear_model import LogisticRegression\n",
    "from sklearn.metrics import confusion_matrix\n",
    "from sklearn.utils import shuffle\n",
    "import warnings \n",
    "warnings.filterwarnings(\"ignore\")"
   ]
  },
  {
   "cell_type": "code",
   "execution_count": 2,
   "id": "2edc45df",
   "metadata": {
    "scrolled": true
   },
   "outputs": [
    {
     "data": {
      "text/html": [
       "<div>\n",
       "<style scoped>\n",
       "    .dataframe tbody tr th:only-of-type {\n",
       "        vertical-align: middle;\n",
       "    }\n",
       "\n",
       "    .dataframe tbody tr th {\n",
       "        vertical-align: top;\n",
       "    }\n",
       "\n",
       "    .dataframe thead th {\n",
       "        text-align: right;\n",
       "    }\n",
       "</style>\n",
       "<table border=\"1\" class=\"dataframe\">\n",
       "  <thead>\n",
       "    <tr style=\"text-align: right;\">\n",
       "      <th></th>\n",
       "      <th>date</th>\n",
       "      <th>open</th>\n",
       "      <th>high</th>\n",
       "      <th>low</th>\n",
       "      <th>close</th>\n",
       "      <th>volume</th>\n",
       "      <th>profit or not</th>\n",
       "    </tr>\n",
       "  </thead>\n",
       "  <tbody>\n",
       "    <tr>\n",
       "      <th>0</th>\n",
       "      <td>12-12-1980</td>\n",
       "      <td>0.1003</td>\n",
       "      <td>0.1007</td>\n",
       "      <td>0.1003</td>\n",
       "      <td>0.1003</td>\n",
       "      <td>469033600</td>\n",
       "      <td>0</td>\n",
       "    </tr>\n",
       "    <tr>\n",
       "      <th>1</th>\n",
       "      <td>15-12-1980</td>\n",
       "      <td>0.0955</td>\n",
       "      <td>0.0955</td>\n",
       "      <td>0.0951</td>\n",
       "      <td>0.0951</td>\n",
       "      <td>175884800</td>\n",
       "      <td>1</td>\n",
       "    </tr>\n",
       "    <tr>\n",
       "      <th>2</th>\n",
       "      <td>16-12-1980</td>\n",
       "      <td>0.0885</td>\n",
       "      <td>0.0885</td>\n",
       "      <td>0.0881</td>\n",
       "      <td>0.0881</td>\n",
       "      <td>105728000</td>\n",
       "      <td>1</td>\n",
       "    </tr>\n",
       "    <tr>\n",
       "      <th>3</th>\n",
       "      <td>17-12-1980</td>\n",
       "      <td>0.0902</td>\n",
       "      <td>0.0907</td>\n",
       "      <td>0.0902</td>\n",
       "      <td>0.0902</td>\n",
       "      <td>86441600</td>\n",
       "      <td>0</td>\n",
       "    </tr>\n",
       "    <tr>\n",
       "      <th>4</th>\n",
       "      <td>18-12-1980</td>\n",
       "      <td>0.0929</td>\n",
       "      <td>0.0933</td>\n",
       "      <td>0.0929</td>\n",
       "      <td>0.0929</td>\n",
       "      <td>73449600</td>\n",
       "      <td>0</td>\n",
       "    </tr>\n",
       "  </tbody>\n",
       "</table>\n",
       "</div>"
      ],
      "text/plain": [
       "         date    open    high     low   close     volume  profit or not\n",
       "0  12-12-1980  0.1003  0.1007  0.1003  0.1003  469033600              0\n",
       "1  15-12-1980  0.0955  0.0955  0.0951  0.0951  175884800              1\n",
       "2  16-12-1980  0.0885  0.0885  0.0881  0.0881  105728000              1\n",
       "3  17-12-1980  0.0902  0.0907  0.0902  0.0902   86441600              0\n",
       "4  18-12-1980  0.0929  0.0933  0.0929  0.0929   73449600              0"
      ]
     },
     "execution_count": 2,
     "metadata": {},
     "output_type": "execute_result"
    }
   ],
   "source": [
    "dataset = pd.read_csv('C:/Users/Mehmet Alpay/Desktop/Software/anaconda kodlama/applerevenue .csv')\n",
    "dataset.head()"
   ]
  },
  {
   "cell_type": "code",
   "execution_count": 3,
   "id": "0b6b5fd6",
   "metadata": {},
   "outputs": [
    {
     "data": {
      "text/html": [
       "<div>\n",
       "<style scoped>\n",
       "    .dataframe tbody tr th:only-of-type {\n",
       "        vertical-align: middle;\n",
       "    }\n",
       "\n",
       "    .dataframe tbody tr th {\n",
       "        vertical-align: top;\n",
       "    }\n",
       "\n",
       "    .dataframe thead th {\n",
       "        text-align: right;\n",
       "    }\n",
       "</style>\n",
       "<table border=\"1\" class=\"dataframe\">\n",
       "  <thead>\n",
       "    <tr style=\"text-align: right;\">\n",
       "      <th></th>\n",
       "      <th>open</th>\n",
       "      <th>high</th>\n",
       "      <th>low</th>\n",
       "      <th>close</th>\n",
       "      <th>volume</th>\n",
       "      <th>profit or not</th>\n",
       "    </tr>\n",
       "  </thead>\n",
       "  <tbody>\n",
       "    <tr>\n",
       "      <th>count</th>\n",
       "      <td>10559.000000</td>\n",
       "      <td>10559.000000</td>\n",
       "      <td>10559.000000</td>\n",
       "      <td>10559.000000</td>\n",
       "      <td>1.055900e+04</td>\n",
       "      <td>10559.000000</td>\n",
       "    </tr>\n",
       "    <tr>\n",
       "      <th>mean</th>\n",
       "      <td>15.308827</td>\n",
       "      <td>15.483090</td>\n",
       "      <td>15.139373</td>\n",
       "      <td>15.318012</td>\n",
       "      <td>3.263275e+08</td>\n",
       "      <td>0.476466</td>\n",
       "    </tr>\n",
       "    <tr>\n",
       "      <th>std</th>\n",
       "      <td>33.973113</td>\n",
       "      <td>34.385796</td>\n",
       "      <td>33.580974</td>\n",
       "      <td>34.000790</td>\n",
       "      <td>3.201156e+08</td>\n",
       "      <td>0.499469</td>\n",
       "    </tr>\n",
       "    <tr>\n",
       "      <th>min</th>\n",
       "      <td>0.038800</td>\n",
       "      <td>0.038800</td>\n",
       "      <td>0.038400</td>\n",
       "      <td>0.038400</td>\n",
       "      <td>1.001504e+06</td>\n",
       "      <td>0.000000</td>\n",
       "    </tr>\n",
       "    <tr>\n",
       "      <th>25%</th>\n",
       "      <td>0.236800</td>\n",
       "      <td>0.242500</td>\n",
       "      <td>0.231650</td>\n",
       "      <td>0.236900</td>\n",
       "      <td>1.219792e+08</td>\n",
       "      <td>0.000000</td>\n",
       "    </tr>\n",
       "    <tr>\n",
       "      <th>50%</th>\n",
       "      <td>0.400200</td>\n",
       "      <td>0.406600</td>\n",
       "      <td>0.393000</td>\n",
       "      <td>0.399300</td>\n",
       "      <td>2.159780e+08</td>\n",
       "      <td>0.000000</td>\n",
       "    </tr>\n",
       "    <tr>\n",
       "      <th>75%</th>\n",
       "      <td>13.652700</td>\n",
       "      <td>13.783300</td>\n",
       "      <td>13.504000</td>\n",
       "      <td>13.647150</td>\n",
       "      <td>4.074518e+08</td>\n",
       "      <td>1.000000</td>\n",
       "    </tr>\n",
       "    <tr>\n",
       "      <th>max</th>\n",
       "      <td>181.877900</td>\n",
       "      <td>182.186600</td>\n",
       "      <td>178.382400</td>\n",
       "      <td>181.260500</td>\n",
       "      <td>2.147484e+09</td>\n",
       "      <td>1.000000</td>\n",
       "    </tr>\n",
       "  </tbody>\n",
       "</table>\n",
       "</div>"
      ],
      "text/plain": [
       "               open          high           low         close        volume  \\\n",
       "count  10559.000000  10559.000000  10559.000000  10559.000000  1.055900e+04   \n",
       "mean      15.308827     15.483090     15.139373     15.318012  3.263275e+08   \n",
       "std       33.973113     34.385796     33.580974     34.000790  3.201156e+08   \n",
       "min        0.038800      0.038800      0.038400      0.038400  1.001504e+06   \n",
       "25%        0.236800      0.242500      0.231650      0.236900  1.219792e+08   \n",
       "50%        0.400200      0.406600      0.393000      0.399300  2.159780e+08   \n",
       "75%       13.652700     13.783300     13.504000     13.647150  4.074518e+08   \n",
       "max      181.877900    182.186600    178.382400    181.260500  2.147484e+09   \n",
       "\n",
       "       profit or not  \n",
       "count   10559.000000  \n",
       "mean        0.476466  \n",
       "std         0.499469  \n",
       "min         0.000000  \n",
       "25%         0.000000  \n",
       "50%         0.000000  \n",
       "75%         1.000000  \n",
       "max         1.000000  "
      ]
     },
     "execution_count": 3,
     "metadata": {},
     "output_type": "execute_result"
    }
   ],
   "source": [
    "dataset.describe()"
   ]
  },
  {
   "cell_type": "code",
   "execution_count": 4,
   "id": "4ec1be03",
   "metadata": {},
   "outputs": [
    {
     "data": {
      "text/html": [
       "<div>\n",
       "<style scoped>\n",
       "    .dataframe tbody tr th:only-of-type {\n",
       "        vertical-align: middle;\n",
       "    }\n",
       "\n",
       "    .dataframe tbody tr th {\n",
       "        vertical-align: top;\n",
       "    }\n",
       "\n",
       "    .dataframe thead th {\n",
       "        text-align: right;\n",
       "    }\n",
       "</style>\n",
       "<table border=\"1\" class=\"dataframe\">\n",
       "  <thead>\n",
       "    <tr style=\"text-align: right;\">\n",
       "      <th></th>\n",
       "      <th>open</th>\n",
       "      <th>high</th>\n",
       "      <th>low</th>\n",
       "      <th>close</th>\n",
       "    </tr>\n",
       "  </thead>\n",
       "  <tbody>\n",
       "    <tr>\n",
       "      <th>0</th>\n",
       "      <td>0.1003</td>\n",
       "      <td>0.1007</td>\n",
       "      <td>0.1003</td>\n",
       "      <td>0.1003</td>\n",
       "    </tr>\n",
       "    <tr>\n",
       "      <th>1</th>\n",
       "      <td>0.0955</td>\n",
       "      <td>0.0955</td>\n",
       "      <td>0.0951</td>\n",
       "      <td>0.0951</td>\n",
       "    </tr>\n",
       "    <tr>\n",
       "      <th>2</th>\n",
       "      <td>0.0885</td>\n",
       "      <td>0.0885</td>\n",
       "      <td>0.0881</td>\n",
       "      <td>0.0881</td>\n",
       "    </tr>\n",
       "    <tr>\n",
       "      <th>3</th>\n",
       "      <td>0.0902</td>\n",
       "      <td>0.0907</td>\n",
       "      <td>0.0902</td>\n",
       "      <td>0.0902</td>\n",
       "    </tr>\n",
       "    <tr>\n",
       "      <th>4</th>\n",
       "      <td>0.0929</td>\n",
       "      <td>0.0933</td>\n",
       "      <td>0.0929</td>\n",
       "      <td>0.0929</td>\n",
       "    </tr>\n",
       "  </tbody>\n",
       "</table>\n",
       "</div>"
      ],
      "text/plain": [
       "     open    high     low   close\n",
       "0  0.1003  0.1007  0.1003  0.1003\n",
       "1  0.0955  0.0955  0.0951  0.0951\n",
       "2  0.0885  0.0885  0.0881  0.0881\n",
       "3  0.0902  0.0907  0.0902  0.0902\n",
       "4  0.0929  0.0933  0.0929  0.0929"
      ]
     },
     "execution_count": 4,
     "metadata": {},
     "output_type": "execute_result"
    }
   ],
   "source": [
    "X = dataset.drop(columns=['date', 'profit or not', 'volume'])\n",
    "Y = dataset['profit or not']\n",
    "X.head()"
   ]
  },
  {
   "cell_type": "code",
   "execution_count": 5,
   "id": "f58ccf81",
   "metadata": {},
   "outputs": [
    {
     "data": {
      "text/plain": [
       "((6863, 4), (3696, 4), (6863,), (3696,))"
      ]
     },
     "execution_count": 5,
     "metadata": {},
     "output_type": "execute_result"
    }
   ],
   "source": [
    "x_train, x_test, y_train, y_test = train_test_split(X, Y, shuffle=True, test_size=0.35, random_state=42)\n",
    "(x_train.shape, x_test.shape, y_train.shape, y_test.shape)"
   ]
  },
  {
   "cell_type": "code",
   "execution_count": 6,
   "id": "db186b41",
   "metadata": {},
   "outputs": [
    {
     "data": {
      "text/plain": [
       "array([1, 1, 0, ..., 1, 0, 0], dtype=int64)"
      ]
     },
     "execution_count": 6,
     "metadata": {},
     "output_type": "execute_result"
    }
   ],
   "source": [
    "training_model = LogisticRegression(class_weight='balanced')\n",
    "training_model.fit(x_train, y_train)\n",
    "y_train_prediction = training_model.predict(x_train)\n",
    "y_train_prediction"
   ]
  },
  {
   "cell_type": "code",
   "execution_count": 7,
   "id": "4eba8fc3",
   "metadata": {},
   "outputs": [
    {
     "data": {
      "text/plain": [
       "0.998542911263296"
      ]
     },
     "execution_count": 7,
     "metadata": {},
     "output_type": "execute_result"
    }
   ],
   "source": [
    "training_model.score(x_train, y_train)"
   ]
  },
  {
   "cell_type": "code",
   "execution_count": 8,
   "id": "d7bead76",
   "metadata": {},
   "outputs": [
    {
     "data": {
      "text/plain": [
       "array([[3585,    6],\n",
       "       [   4, 3268]], dtype=int64)"
      ]
     },
     "execution_count": 8,
     "metadata": {},
     "output_type": "execute_result"
    }
   ],
   "source": [
    "training_cf_matrix = confusion_matrix(y_train, y_train_prediction)\n",
    "\n",
    "training_cf_matrix"
   ]
  },
  {
   "cell_type": "code",
   "execution_count": 9,
   "id": "3d494c3d",
   "metadata": {},
   "outputs": [
    {
     "data": {
      "text/html": [
       "<div>\n",
       "<style scoped>\n",
       "    .dataframe tbody tr th:only-of-type {\n",
       "        vertical-align: middle;\n",
       "    }\n",
       "\n",
       "    .dataframe tbody tr th {\n",
       "        vertical-align: top;\n",
       "    }\n",
       "\n",
       "    .dataframe thead th {\n",
       "        text-align: right;\n",
       "    }\n",
       "</style>\n",
       "<table border=\"1\" class=\"dataframe\">\n",
       "  <thead>\n",
       "    <tr style=\"text-align: right;\">\n",
       "      <th></th>\n",
       "      <th>True</th>\n",
       "      <th>False</th>\n",
       "    </tr>\n",
       "  </thead>\n",
       "  <tbody>\n",
       "    <tr>\n",
       "      <th>0</th>\n",
       "      <td>3585</td>\n",
       "      <td>6</td>\n",
       "    </tr>\n",
       "    <tr>\n",
       "      <th>1</th>\n",
       "      <td>4</td>\n",
       "      <td>3268</td>\n",
       "    </tr>\n",
       "  </tbody>\n",
       "</table>\n",
       "</div>"
      ],
      "text/plain": [
       "   True  False\n",
       "0  3585      6\n",
       "1     4   3268"
      ]
     },
     "execution_count": 9,
     "metadata": {},
     "output_type": "execute_result"
    }
   ],
   "source": [
    "b = pd.DataFrame(training_cf_matrix)\n",
    "b.rename(columns = {0: 'True', 1:'False'}, inplace = True)\n",
    "b"
   ]
  },
  {
   "cell_type": "code",
   "execution_count": 11,
   "id": "f659ffa0",
   "metadata": {},
   "outputs": [
    {
     "data": {
      "image/png": "[encoded data removed]",
      "text/plain": [
       "<Figure size 640x480 with 2 Axes>"
      ]
     },
     "metadata": {},
     "output_type": "display_data"
    }
   ],
   "source": [
    "sns.heatmap(training_cf_matrix/np.sum(training_cf_matrix), annot=True, fmt='.2%')\n",
    "plt.title('Analysis of model performance for training dataset')\n",
    "plt.show()"
   ]
  },
  {
   "cell_type": "code",
   "execution_count": 12,
   "id": "924ef8f3",
   "metadata": {},
   "outputs": [
    {
     "data": {
      "text/plain": [
       "array([0, 1, 1, ..., 0, 0, 1], dtype=int64)"
      ]
     },
     "execution_count": 12,
     "metadata": {},
     "output_type": "execute_result"
    }
   ],
   "source": [
    "y_test_prediction = training_model.predict(x_test)\n",
    "y_test_prediction"
   ]
  },
  {
   "cell_type": "code",
   "execution_count": 13,
   "id": "34571360",
   "metadata": {},
   "outputs": [
    {
     "data": {
      "text/plain": [
       "0.9962121212121212"
      ]
     },
     "execution_count": 13,
     "metadata": {},
     "output_type": "execute_result"
    }
   ],
   "source": [
    "training_model.score(x_test, y_test)"
   ]
  },
  {
   "cell_type": "code",
   "execution_count": 14,
   "id": "22c0277f",
   "metadata": {},
   "outputs": [
    {
     "data": {
      "text/plain": [
       "array([[1931,    6],\n",
       "       [   8, 1751]], dtype=int64)"
      ]
     },
     "execution_count": 14,
     "metadata": {},
     "output_type": "execute_result"
    }
   ],
   "source": [
    "testing_cf_matrix = confusion_matrix(y_test, y_test_prediction)\n",
    "testing_cf_matrix"
   ]
  },
  {
   "cell_type": "code",
   "execution_count": 15,
   "id": "9c5a3102",
   "metadata": {},
   "outputs": [
    {
     "data": {
      "text/html": [
       "<div>\n",
       "<style scoped>\n",
       "    .dataframe tbody tr th:only-of-type {\n",
       "        vertical-align: middle;\n",
       "    }\n",
       "\n",
       "    .dataframe tbody tr th {\n",
       "        vertical-align: top;\n",
       "    }\n",
       "\n",
       "    .dataframe thead th {\n",
       "        text-align: right;\n",
       "    }\n",
       "</style>\n",
       "<table border=\"1\" class=\"dataframe\">\n",
       "  <thead>\n",
       "    <tr style=\"text-align: right;\">\n",
       "      <th></th>\n",
       "      <th>True</th>\n",
       "      <th>False</th>\n",
       "    </tr>\n",
       "  </thead>\n",
       "  <tbody>\n",
       "    <tr>\n",
       "      <th>0</th>\n",
       "      <td>1931</td>\n",
       "      <td>6</td>\n",
       "    </tr>\n",
       "    <tr>\n",
       "      <th>1</th>\n",
       "      <td>8</td>\n",
       "      <td>1751</td>\n",
       "    </tr>\n",
       "  </tbody>\n",
       "</table>\n",
       "</div>"
      ],
      "text/plain": [
       "   True  False\n",
       "0  1931      6\n",
       "1     8   1751"
      ]
     },
     "execution_count": 15,
     "metadata": {},
     "output_type": "execute_result"
    }
   ],
   "source": [
    "a = pd.DataFrame(testing_cf_matrix)\n",
    "a.rename(columns = {0: 'True', 1:'False'}, inplace = True)\n",
    "a"
   ]
  },
  {
   "cell_type": "code",
   "execution_count": 16,
   "id": "3114cd5a",
   "metadata": {},
   "outputs": [
    {
     "data": {
      "image/png": "[encoded data removed]",
      "text/plain": [
       "<Figure size 640x480 with 2 Axes>"
      ]
     },
     "metadata": {},
     "output_type": "display_data"
    }
   ],
   "source": [
    "sns.heatmap(testing_cf_matrix/np.sum(testing_cf_matrix), annot=True, fmt='0.2%')\n",
    "plt.title('Analysing performance of the model for testing dataset')\n",
    "plt.show()"
   ]
  },
  {
   "cell_type": "code",
   "execution_count": null,
   "id": "277faa32",
   "metadata": {},
   "outputs": [],
   "source": []
  }
 ],
 "metadata": {
  "kernelspec": {
   "display_name": "Python 3 (ipykernel)",
   "language": "python",
   "name": "python3"
  },
  "language_info": {
   "codemirror_mode": {
    "name": "ipython",
    "version": 3
   },
   "file_extension": ".py",
   "mimetype": "text/x-python",
   "name": "python",
   "nbconvert_exporter": "python",
   "pygments_lexer": "ipython3",
   "version": "3.8.12"
  }
 },
 "nbformat": 4,
 "nbformat_minor": 5
}
